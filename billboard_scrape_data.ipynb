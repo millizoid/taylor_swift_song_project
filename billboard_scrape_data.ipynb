{
 "cells": [
  {
   "cell_type": "code",
   "execution_count": 46,
   "metadata": {},
   "outputs": [],
   "source": [
    "from bs4 import BeautifulSoup\n",
    "import requests\n",
    "import lxml\n",
    "import pandas as pd\n",
    "import regex"
   ]
  },
  {
   "cell_type": "code",
   "execution_count": 6,
   "metadata": {},
   "outputs": [],
   "source": [
    "url = 'https://www.billboard.com/artist/taylor-swift/chart-history/hsi/'"
   ]
  },
  {
   "cell_type": "code",
   "execution_count": 7,
   "metadata": {},
   "outputs": [],
   "source": [
    "r = requests.get(url)\n",
    "doc = BeautifulSoup(r.content, 'lxml')\n",
    "structured_doc = doc.prettify()"
   ]
  },
  {
   "cell_type": "code",
   "execution_count": 8,
   "metadata": {},
   "outputs": [],
   "source": [
    "ss = doc.findAll('div', class_ = 'o-chart-results-list-row // lrv-u-flex lrv-u-flex-direction-column@mobile-max u-height-100 lrv-u-background-color-white')"
   ]
  },
  {
   "cell_type": "code",
   "execution_count": 13,
   "metadata": {},
   "outputs": [],
   "source": [
    "song = doc.findAll('div','o-chart-results-list__item // lrv-u-flex lrv-u-flex-direction-column lrv-u-flex-grow-1 lrv-u-justify-content-center lrv-u-border-b-1 u-border-b-0@mobile-max lrv-u-border-color-grey-light lrv-u-padding-lr-2 lrv-u-padding-lr-1@mobile-max lrv-u-padding-tb-050@mobile-max')"
   ]
  },
  {
   "cell_type": "code",
   "execution_count": 19,
   "metadata": {},
   "outputs": [],
   "source": [
    "s1 = doc.find_all('div', class_='o-chart-results-list__item // lrv-u-flex lrv-u-flex-direction-column lrv-u-flex-grow-1 lrv-u-justify-content-center lrv-u-border-b-1 u-border-b-0@mobile-max lrv-u-border-color-grey-light lrv-u-padding-lr-2 lrv-u-padding-lr-1@mobile-max lrv-u-padding-tb-050@mobile-max')"
   ]
  },
  {
   "cell_type": "code",
   "execution_count": 22,
   "metadata": {},
   "outputs": [],
   "source": [
    "song_name = []\n",
    "for i in s1:\n",
    "    song_name.append(i.text.strip())"
   ]
  },
  {
   "cell_type": "code",
   "execution_count": 27,
   "metadata": {},
   "outputs": [],
   "source": [
    "s2 = []\n",
    "for g in song_name:\n",
    "    s2.append(g.replace('\\t\\t\\n\\t\\n\\n\\n\\t\\n\\tTaylor Swift',''))"
   ]
  },
  {
   "cell_type": "code",
   "execution_count": 30,
   "metadata": {},
   "outputs": [],
   "source": [
    "s3 = []\n",
    "for g in s2:\n",
    "    s3.append(g.replace('\\t\\t\\n\\t\\n\\n\\n\\t\\n\\tBig Red Machine Featuring Taylor Swift',''))\n",
    "\n",
    "s4 = []\n",
    "for g in s3:\n",
    "    s4.append(g.replace('\\t\\t\\n\\t\\n\\n\\n\\t\\n\\tSugarland Featuring Taylor Swift',''))\n",
    "\n",
    "s5 = []\n",
    "for g in s4:\n",
    "    s5.append(g.replace('\\t\\t\\n\\t\\n\\n\\n\\t\\n\\tEd Sheeran Featuring Taylor Swift',''))\n",
    "\n",
    "s6 = []\n",
    "for g in s5:\n",
    "    s6.append(g.replace('\\t\\t\\n\\t\\n\\n\\n\\t\\n\\tB.o.B Featuring Taylor Swift',''))\n",
    "\n",
    "s7 = []\n",
    "for g in s6:\n",
    "    s7.append(g.replace('\\t\\t\\n\\t\\n\\n\\n\\t\\n\\tTim McGraw With Taylor Swift',''))\n",
    "\n",
    "s8 = []\n",
    "for g in s7:\n",
    "    s8.append(g.replace('\\t\\t\\n\\t\\n\\n\\n\\t\\n\\tBoys Like Girls Featuring Taylor Swift',''))\n",
    "\n",
    "s9 = []\n",
    "for g in s8:\n",
    "    s9.append(g.replace('\\t\\t\\n\\t\\n\\n\\n\\t\\n\\tZayn / Taylor Swift',''))"
   ]
  },
  {
   "cell_type": "code",
   "execution_count": 54,
   "metadata": {},
   "outputs": [],
   "source": [
    "dd = doc.find_all('div', class_='o-chart-results-list__item // u-width-143@tablet u-width-67@mobile-max lrv-u-flex lrv-u-align-items-center lrv-u-justify-content-center u-justify-content-flex-end@mobile-max u-flex-grow-1@mobile-max lrv-u-background-color-grey-lightest lrv-u-border-b-1 u-border-b-0@mobile-max lrv-u-border-color-grey-light lrv-u-padding-r-075@mobile-max')\n",
    "debut_date = []\n",
    "for i in dd:\n",
    "    debut_date.append(i.text.strip())"
   ]
  },
  {
   "cell_type": "code",
   "execution_count": 58,
   "metadata": {},
   "outputs": [],
   "source": [
    "peakd = doc.find_all('div', class_='o-chart-results-list__item // u-width-143@tablet u-width-82@mobile-max lrv-u-flex lrv-u-align-items-center lrv-u-justify-content-center lrv-u-background-color-grey-lightest lrv-u-border-b-1 u-border-b-0@mobile-max lrv-u-border-color-grey-light')\n",
    "peak_date = []\n",
    "for i in peakd:\n",
    "    peak_date.append(i.text.strip())"
   ]
  },
  {
   "cell_type": "code",
   "execution_count": 62,
   "metadata": {},
   "outputs": [],
   "source": [
    "w = doc.find_all('div', class_='o-chart-results-list__item // u-width-72 u-width-55@mobile-max lrv-u-flex lrv-u-align-items-center lrv-u-justify-content-center u-background-color-white-064@mobile-max lrv-u-border-b-1 u-border-b-0@mobile-max lrv-u-border-color-grey-light')\n",
    "weeks = []\n",
    "for i in w:\n",
    "    weeks.append(i.text.strip())"
   ]
  },
  {
   "cell_type": "code",
   "execution_count": 42,
   "metadata": {},
   "outputs": [],
   "source": [
    "peakpos = doc.find_all('div', class_='o-chart-results-list__item // u-width-72 u-width-55@mobile-max lrv-u-flex lrv-u-flex-direction-column lrv-u-align-items-center lrv-u-justify-content-center u-background-color-white-064@mobile-max lrv-u-border-b-1 u-border-b-0@mobile-max lrv-u-border-color-grey-light')\n",
    "peak_position = []\n",
    "for i in peakpos:\n",
    "    peak_position.append(i.text.strip())"
   ]
  },
  {
   "cell_type": "code",
   "execution_count": 53,
   "metadata": {},
   "outputs": [],
   "source": [
    "peak_position2 = []\n",
    "for g in peak_position:\n",
    "    peak_position2.append(g[:2])\n",
    "\n",
    "peak_position3 = []\n",
    "for g in peak_position2:\n",
    "    peak_position3.append(g.replace('\\n',''))"
   ]
  },
  {
   "cell_type": "code",
   "execution_count": 33,
   "metadata": {},
   "outputs": [],
   "source": [
    "billboard = pd.DataFrame(s9)"
   ]
  },
  {
   "cell_type": "code",
   "execution_count": 67,
   "metadata": {},
   "outputs": [
    {
     "ename": "TypeError",
     "evalue": "wide_to_long() missing 3 required positional arguments: 'stubnames', 'i', and 'j'",
     "output_type": "error",
     "traceback": [
      "\u001b[0;31m---------------------------------------------------------------------------\u001b[0m",
      "\u001b[0;31mTypeError\u001b[0m                                 Traceback (most recent call last)",
      "Cell \u001b[0;32mIn[67], line 3\u001b[0m\n\u001b[1;32m      1\u001b[0m ts_data \u001b[39m=\u001b[39m pd\u001b[39m.\u001b[39mDataFrame([s9,debut_date,peak_date,peak_position3,weeks])\n\u001b[1;32m      2\u001b[0m columns \u001b[39m=\u001b[39m [\u001b[39m'\u001b[39m\u001b[39msong\u001b[39m\u001b[39m'\u001b[39m,\u001b[39m'\u001b[39m\u001b[39mdebut\u001b[39m\u001b[39m'\u001b[39m,\u001b[39m'\u001b[39m\u001b[39mpeak_date\u001b[39m\u001b[39m'\u001b[39m,\u001b[39m'\u001b[39m\u001b[39mpeak_position\u001b[39m\u001b[39m'\u001b[39m,\u001b[39m'\u001b[39m\u001b[39mweeks_in_top\u001b[39m\u001b[39m'\u001b[39m]\n\u001b[0;32m----> 3\u001b[0m pd\u001b[39m.\u001b[39;49mwide_to_long(ts_data)\n",
      "\u001b[0;31mTypeError\u001b[0m: wide_to_long() missing 3 required positional arguments: 'stubnames', 'i', and 'j'"
     ]
    }
   ],
   "source": [
    "ts_data = pd.DataFrame([s9,debut_date,peak_date,peak_position3,weeks])\n",
    "columns = ['song','debut','peak_date','peak_position','weeks_in_top']\n",
    "pd.wide_to_long(ts_data, stubnames = columns,)"
   ]
  },
  {
   "cell_type": "code",
   "execution_count": 73,
   "metadata": {},
   "outputs": [],
   "source": [
    "ts_data = ts_data.transpose()"
   ]
  },
  {
   "cell_type": "code",
   "execution_count": 75,
   "metadata": {},
   "outputs": [
    {
     "data": {
      "text/html": [
       "<div>\n",
       "<style scoped>\n",
       "    .dataframe tbody tr th:only-of-type {\n",
       "        vertical-align: middle;\n",
       "    }\n",
       "\n",
       "    .dataframe tbody tr th {\n",
       "        vertical-align: top;\n",
       "    }\n",
       "\n",
       "    .dataframe thead th {\n",
       "        text-align: right;\n",
       "    }\n",
       "</style>\n",
       "<table border=\"1\" class=\"dataframe\">\n",
       "  <thead>\n",
       "    <tr style=\"text-align: right;\">\n",
       "      <th></th>\n",
       "      <th>song</th>\n",
       "      <th>debut</th>\n",
       "      <th>peak_date</th>\n",
       "      <th>peak_position</th>\n",
       "      <th>weeks_in_top</th>\n",
       "    </tr>\n",
       "  </thead>\n",
       "  <tbody>\n",
       "    <tr>\n",
       "      <th>0</th>\n",
       "      <td>You Belong With Me</td>\n",
       "      <td>11.22.08</td>\n",
       "      <td>08.22.09</td>\n",
       "      <td>2</td>\n",
       "      <td>50</td>\n",
       "    </tr>\n",
       "    <tr>\n",
       "      <th>1</th>\n",
       "      <td>Shake It Off</td>\n",
       "      <td>09.06.14</td>\n",
       "      <td>09.06.14</td>\n",
       "      <td>1</td>\n",
       "      <td>50</td>\n",
       "    </tr>\n",
       "    <tr>\n",
       "      <th>2</th>\n",
       "      <td>Love Story</td>\n",
       "      <td>09.27.08</td>\n",
       "      <td>01.17.09</td>\n",
       "      <td>4</td>\n",
       "      <td>49</td>\n",
       "    </tr>\n",
       "    <tr>\n",
       "      <th>3</th>\n",
       "      <td>Teardrops On My Guitar</td>\n",
       "      <td>03.24.07</td>\n",
       "      <td>03.01.08</td>\n",
       "      <td>13</td>\n",
       "      <td>48</td>\n",
       "    </tr>\n",
       "    <tr>\n",
       "      <th>4</th>\n",
       "      <td>Our Song</td>\n",
       "      <td>10.13.07</td>\n",
       "      <td>01.19.08</td>\n",
       "      <td>16</td>\n",
       "      <td>36</td>\n",
       "    </tr>\n",
       "    <tr>\n",
       "      <th>...</th>\n",
       "      <td>...</td>\n",
       "      <td>...</td>\n",
       "      <td>...</td>\n",
       "      <td>...</td>\n",
       "      <td>...</td>\n",
       "    </tr>\n",
       "    <tr>\n",
       "      <th>183</th>\n",
       "      <td>The Moment I Knew (Taylor's Version)</td>\n",
       "      <td>11.27.21</td>\n",
       "      <td>11.27.21</td>\n",
       "      <td>83</td>\n",
       "      <td>1</td>\n",
       "    </tr>\n",
       "    <tr>\n",
       "      <th>184</th>\n",
       "      <td>Starlight (Taylor's Version)</td>\n",
       "      <td>11.27.21</td>\n",
       "      <td>11.27.21</td>\n",
       "      <td>90</td>\n",
       "      <td>1</td>\n",
       "    </tr>\n",
       "    <tr>\n",
       "      <th>185</th>\n",
       "      <td>Come Back...Be Here (Taylor's Version)</td>\n",
       "      <td>11.27.21</td>\n",
       "      <td>11.27.21</td>\n",
       "      <td>87</td>\n",
       "      <td>1</td>\n",
       "    </tr>\n",
       "    <tr>\n",
       "      <th>186</th>\n",
       "      <td>This Love (Taylor's Version)</td>\n",
       "      <td>05.21.22</td>\n",
       "      <td>05.21.22</td>\n",
       "      <td>50</td>\n",
       "      <td>1</td>\n",
       "    </tr>\n",
       "    <tr>\n",
       "      <th>187</th>\n",
       "      <td>Carolina</td>\n",
       "      <td>07.09.22</td>\n",
       "      <td>07.09.22</td>\n",
       "      <td>60</td>\n",
       "      <td>1</td>\n",
       "    </tr>\n",
       "  </tbody>\n",
       "</table>\n",
       "<p>188 rows × 5 columns</p>\n",
       "</div>"
      ],
      "text/plain": [
       "                                       song     debut peak_date peak_position  \\\n",
       "0                        You Belong With Me  11.22.08  08.22.09             2   \n",
       "1                              Shake It Off  09.06.14  09.06.14             1   \n",
       "2                                Love Story  09.27.08  01.17.09             4   \n",
       "3                    Teardrops On My Guitar  03.24.07  03.01.08            13   \n",
       "4                                  Our Song  10.13.07  01.19.08            16   \n",
       "..                                      ...       ...       ...           ...   \n",
       "183    The Moment I Knew (Taylor's Version)  11.27.21  11.27.21            83   \n",
       "184            Starlight (Taylor's Version)  11.27.21  11.27.21            90   \n",
       "185  Come Back...Be Here (Taylor's Version)  11.27.21  11.27.21            87   \n",
       "186            This Love (Taylor's Version)  05.21.22  05.21.22            50   \n",
       "187                                Carolina  07.09.22  07.09.22            60   \n",
       "\n",
       "    weeks_in_top  \n",
       "0             50  \n",
       "1             50  \n",
       "2             49  \n",
       "3             48  \n",
       "4             36  \n",
       "..           ...  \n",
       "183            1  \n",
       "184            1  \n",
       "185            1  \n",
       "186            1  \n",
       "187            1  \n",
       "\n",
       "[188 rows x 5 columns]"
      ]
     },
     "execution_count": 75,
     "metadata": {},
     "output_type": "execute_result"
    }
   ],
   "source": [
    "ts_data.columns=['song','debut','peak_date','peak_position','weeks_in_top']\n",
    "ts_data"
   ]
  }
 ],
 "metadata": {
  "kernelspec": {
   "display_name": "Python 3",
   "language": "python",
   "name": "python3"
  },
  "language_info": {
   "codemirror_mode": {
    "name": "ipython",
    "version": 3
   },
   "file_extension": ".py",
   "mimetype": "text/x-python",
   "name": "python",
   "nbconvert_exporter": "python",
   "pygments_lexer": "ipython3",
   "version": "3.10.7"
  },
  "orig_nbformat": 4,
  "vscode": {
   "interpreter": {
    "hash": "7e1998ff7f8aa20ada591c520b972326324e5ea05489af9e422744c7c09f6dad"
   }
  }
 },
 "nbformat": 4,
 "nbformat_minor": 2
}
